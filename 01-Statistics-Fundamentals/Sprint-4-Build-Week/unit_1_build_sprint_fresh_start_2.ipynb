{
  "nbformat": 4,
  "nbformat_minor": 0,
  "metadata": {
    "colab": {
      "name": "unit-1-build_sprint_fresh_start_2.ipynb",
      "provenance": [],
      "collapsed_sections": [],
      "authorship_tag": "ABX9TyP+R+gJzhllcfsjsJ54/VRw",
      "include_colab_link": true
    },
    "kernelspec": {
      "name": "python3",
      "display_name": "Python 3"
    }
  },
  "cells": [
    {
      "cell_type": "markdown",
      "metadata": {
        "id": "view-in-github",
        "colab_type": "text"
      },
      "source": [
        "<a href=\"https://colab.research.google.com/github/Mark-McAdam/DS-Unit-1-Build/blob/master/unit_1_build_sprint_fresh_start_2.ipynb\" target=\"_parent\"><img src=\"https://colab.research.google.com/assets/colab-badge.svg\" alt=\"Open In Colab\"/></a>"
      ]
    },
    {
      "cell_type": "code",
      "metadata": {
        "id": "-bswcJENAT6R",
        "colab_type": "code",
        "colab": {}
      },
      "source": [
        "import pandas as pd \n",
        "import numpy as np \n",
        "import seaborn as sns \n",
        "import matplotlib.pyplot as plt\n",
        "%matplotlib inline"
      ],
      "execution_count": 0,
      "outputs": []
    },
    {
      "cell_type": "code",
      "metadata": {
        "id": "z-HWDOOaAdzw",
        "colab_type": "code",
        "colab": {}
      },
      "source": [
        "# The full df for posterity and reference\n",
        "df_sing = pd.read_csv('https://raw.githubusercontent.com/Mark-McAdam/data_bank/master/singapore_dataset.csv')\n",
        "df_usa = pd.read_csv('https://raw.githubusercontent.com/Mark-McAdam/data_bank/master/united_states_dataset.csv')"
      ],
      "execution_count": 0,
      "outputs": []
    },
    {
      "cell_type": "code",
      "metadata": {
        "id": "ujIE3YI7Bw9R",
        "colab_type": "code",
        "colab": {}
      },
      "source": [
        "sixty_to_seventeen = (['1960', '1961', '1962', '1963', '1964', '1965', '1966', '1967', '1968',\n",
        "       '1969', '1970', '1971', '1972', '1973', '1974', '1975', '1976', '1977',\n",
        "       '1978', '1979', '1980', '1981', '1982', '1983', '1984', '1985', '1986',\n",
        "       '1987', '1988', '1989', '1990', '1991', '1992', '1993', '1994', '1995',\n",
        "       '1996', '1997', '1998', '1999', '2000', '2001', '2002', '2003', '2004',\n",
        "       '2005', '2006', '2007', '2008', '2009', '2010', '2011', '2012', '2013',\n",
        "       '2014', '2015', '2016', '2017'])"
      ],
      "execution_count": 0,
      "outputs": []
    },
    {
      "cell_type": "markdown",
      "metadata": {
        "id": "7AwVeLJMAeQx",
        "colab_type": "text"
      },
      "source": [
        "# Singapore Survival to age 65, male (% of cohort)"
      ]
    },
    {
      "cell_type": "code",
      "metadata": {
        "id": "il7St3mTAduo",
        "colab_type": "code",
        "outputId": "bc44bf6e-186c-4f17-9acb-b8fa35591ffb",
        "colab": {
          "base_uri": "https://localhost:8080/",
          "height": 168
        }
      },
      "source": [
        "sgp = pd.read_csv('https://raw.githubusercontent.com/Mark-McAdam/data_bank/master/singapore_dataset.csv')\n",
        "sgp = sgp.drop(columns=['Country Name', 'Indicator Code', 'Unnamed: 64', '2018', '2019'])\n",
        "sgp_surv_m = sgp[(sgp['Indicator Name'] == 'Survival to age 65, male (% of cohort)')]\n",
        "sgp_surv_m"
      ],
      "execution_count": 4,
      "outputs": [
        {
          "output_type": "execute_result",
          "data": {
            "text/html": [
              "<div>\n",
              "<style scoped>\n",
              "    .dataframe tbody tr th:only-of-type {\n",
              "        vertical-align: middle;\n",
              "    }\n",
              "\n",
              "    .dataframe tbody tr th {\n",
              "        vertical-align: top;\n",
              "    }\n",
              "\n",
              "    .dataframe thead th {\n",
              "        text-align: right;\n",
              "    }\n",
              "</style>\n",
              "<table border=\"1\" class=\"dataframe\">\n",
              "  <thead>\n",
              "    <tr style=\"text-align: right;\">\n",
              "      <th></th>\n",
              "      <th>Country Code</th>\n",
              "      <th>Indicator Name</th>\n",
              "      <th>1960</th>\n",
              "      <th>1961</th>\n",
              "      <th>1962</th>\n",
              "      <th>1963</th>\n",
              "      <th>1964</th>\n",
              "      <th>1965</th>\n",
              "      <th>1966</th>\n",
              "      <th>1967</th>\n",
              "      <th>1968</th>\n",
              "      <th>1969</th>\n",
              "      <th>1970</th>\n",
              "      <th>1971</th>\n",
              "      <th>1972</th>\n",
              "      <th>1973</th>\n",
              "      <th>1974</th>\n",
              "      <th>1975</th>\n",
              "      <th>1976</th>\n",
              "      <th>1977</th>\n",
              "      <th>1978</th>\n",
              "      <th>1979</th>\n",
              "      <th>1980</th>\n",
              "      <th>1981</th>\n",
              "      <th>1982</th>\n",
              "      <th>1983</th>\n",
              "      <th>1984</th>\n",
              "      <th>1985</th>\n",
              "      <th>1986</th>\n",
              "      <th>1987</th>\n",
              "      <th>1988</th>\n",
              "      <th>1989</th>\n",
              "      <th>1990</th>\n",
              "      <th>1991</th>\n",
              "      <th>1992</th>\n",
              "      <th>1993</th>\n",
              "      <th>1994</th>\n",
              "      <th>1995</th>\n",
              "      <th>1996</th>\n",
              "      <th>1997</th>\n",
              "      <th>1998</th>\n",
              "      <th>1999</th>\n",
              "      <th>2000</th>\n",
              "      <th>2001</th>\n",
              "      <th>2002</th>\n",
              "      <th>2003</th>\n",
              "      <th>2004</th>\n",
              "      <th>2005</th>\n",
              "      <th>2006</th>\n",
              "      <th>2007</th>\n",
              "      <th>2008</th>\n",
              "      <th>2009</th>\n",
              "      <th>2010</th>\n",
              "      <th>2011</th>\n",
              "      <th>2012</th>\n",
              "      <th>2013</th>\n",
              "      <th>2014</th>\n",
              "      <th>2015</th>\n",
              "      <th>2016</th>\n",
              "      <th>2017</th>\n",
              "    </tr>\n",
              "  </thead>\n",
              "  <tbody>\n",
              "    <tr>\n",
              "      <th>798</th>\n",
              "      <td>SGP</td>\n",
              "      <td>Survival to age 65, male (% of cohort)</td>\n",
              "      <td>55.7388</td>\n",
              "      <td>56.4084</td>\n",
              "      <td>57.078</td>\n",
              "      <td>57.657</td>\n",
              "      <td>58.236</td>\n",
              "      <td>58.815</td>\n",
              "      <td>59.394</td>\n",
              "      <td>59.973</td>\n",
              "      <td>60.7724</td>\n",
              "      <td>61.5718</td>\n",
              "      <td>62.3712</td>\n",
              "      <td>63.1706</td>\n",
              "      <td>63.97</td>\n",
              "      <td>64.8888</td>\n",
              "      <td>65.8076</td>\n",
              "      <td>66.7264</td>\n",
              "      <td>67.6452</td>\n",
              "      <td>68.564</td>\n",
              "      <td>69.27252</td>\n",
              "      <td>69.981041</td>\n",
              "      <td>70.689561</td>\n",
              "      <td>71.398082</td>\n",
              "      <td>72.106602</td>\n",
              "      <td>72.924681</td>\n",
              "      <td>73.742759</td>\n",
              "      <td>74.560838</td>\n",
              "      <td>75.378916</td>\n",
              "      <td>76.196995</td>\n",
              "      <td>76.679111</td>\n",
              "      <td>77.161228</td>\n",
              "      <td>77.643344</td>\n",
              "      <td>78.125461</td>\n",
              "      <td>78.607577</td>\n",
              "      <td>78.986775</td>\n",
              "      <td>79.365974</td>\n",
              "      <td>79.745172</td>\n",
              "      <td>80.124371</td>\n",
              "      <td>80.503569</td>\n",
              "      <td>81.260951</td>\n",
              "      <td>82.018332</td>\n",
              "      <td>82.775714</td>\n",
              "      <td>83.533095</td>\n",
              "      <td>84.290477</td>\n",
              "      <td>84.781556</td>\n",
              "      <td>85.272635</td>\n",
              "      <td>85.763713</td>\n",
              "      <td>86.254792</td>\n",
              "      <td>86.745871</td>\n",
              "      <td>87.099097</td>\n",
              "      <td>87.452323</td>\n",
              "      <td>87.805548</td>\n",
              "      <td>88.158774</td>\n",
              "      <td>88.512</td>\n",
              "      <td>88.802435</td>\n",
              "      <td>89.09287</td>\n",
              "      <td>89.383304</td>\n",
              "      <td>89.673739</td>\n",
              "      <td>89.964174</td>\n",
              "    </tr>\n",
              "  </tbody>\n",
              "</table>\n",
              "</div>"
            ],
            "text/plain": [
              "    Country Code                          Indicator Name  ...       2016       2017\n",
              "798          SGP  Survival to age 65, male (% of cohort)  ...  89.673739  89.964174\n",
              "\n",
              "[1 rows x 60 columns]"
            ]
          },
          "metadata": {
            "tags": []
          },
          "execution_count": 4
        }
      ]
    },
    {
      "cell_type": "code",
      "metadata": {
        "id": "EfL6MIReAdrl",
        "colab_type": "code",
        "outputId": "15445f17-f7b6-4321-d212-a84ac5df1fd0",
        "colab": {
          "base_uri": "https://localhost:8080/",
          "height": 80
        }
      },
      "source": [
        "sgp_surv_m = sgp_surv_m.T\n",
        "sgp_surv_m[0:1]"
      ],
      "execution_count": 5,
      "outputs": [
        {
          "output_type": "execute_result",
          "data": {
            "text/html": [
              "<div>\n",
              "<style scoped>\n",
              "    .dataframe tbody tr th:only-of-type {\n",
              "        vertical-align: middle;\n",
              "    }\n",
              "\n",
              "    .dataframe tbody tr th {\n",
              "        vertical-align: top;\n",
              "    }\n",
              "\n",
              "    .dataframe thead th {\n",
              "        text-align: right;\n",
              "    }\n",
              "</style>\n",
              "<table border=\"1\" class=\"dataframe\">\n",
              "  <thead>\n",
              "    <tr style=\"text-align: right;\">\n",
              "      <th></th>\n",
              "      <th>798</th>\n",
              "    </tr>\n",
              "  </thead>\n",
              "  <tbody>\n",
              "    <tr>\n",
              "      <th>Country Code</th>\n",
              "      <td>SGP</td>\n",
              "    </tr>\n",
              "  </tbody>\n",
              "</table>\n",
              "</div>"
            ],
            "text/plain": [
              "              798\n",
              "Country Code  SGP"
            ]
          },
          "metadata": {
            "tags": []
          },
          "execution_count": 5
        }
      ]
    },
    {
      "cell_type": "code",
      "metadata": {
        "id": "R0P7iAUKAdpe",
        "colab_type": "code",
        "outputId": "b8640068-36b1-4365-abdc-a65ce5bb9096",
        "colab": {
          "base_uri": "https://localhost:8080/",
          "height": 80
        }
      },
      "source": [
        "sgp_surv_m.drop('Country Code', inplace=True)\n",
        "sgp_surv_m[0:1]"
      ],
      "execution_count": 6,
      "outputs": [
        {
          "output_type": "execute_result",
          "data": {
            "text/html": [
              "<div>\n",
              "<style scoped>\n",
              "    .dataframe tbody tr th:only-of-type {\n",
              "        vertical-align: middle;\n",
              "    }\n",
              "\n",
              "    .dataframe tbody tr th {\n",
              "        vertical-align: top;\n",
              "    }\n",
              "\n",
              "    .dataframe thead th {\n",
              "        text-align: right;\n",
              "    }\n",
              "</style>\n",
              "<table border=\"1\" class=\"dataframe\">\n",
              "  <thead>\n",
              "    <tr style=\"text-align: right;\">\n",
              "      <th></th>\n",
              "      <th>798</th>\n",
              "    </tr>\n",
              "  </thead>\n",
              "  <tbody>\n",
              "    <tr>\n",
              "      <th>Indicator Name</th>\n",
              "      <td>Survival to age 65, male (% of cohort)</td>\n",
              "    </tr>\n",
              "  </tbody>\n",
              "</table>\n",
              "</div>"
            ],
            "text/plain": [
              "                                                   798\n",
              "Indicator Name  Survival to age 65, male (% of cohort)"
            ]
          },
          "metadata": {
            "tags": []
          },
          "execution_count": 6
        }
      ]
    },
    {
      "cell_type": "code",
      "metadata": {
        "id": "4JiNOWLZAdmR",
        "colab_type": "code",
        "outputId": "574991e7-bf26-439e-847c-ce15d584e828",
        "colab": {
          "base_uri": "https://localhost:8080/",
          "height": 80
        }
      },
      "source": [
        "sgp_surv_m.drop('Indicator Name', inplace=True)\n",
        "sgp_surv_m.head(1)"
      ],
      "execution_count": 7,
      "outputs": [
        {
          "output_type": "execute_result",
          "data": {
            "text/html": [
              "<div>\n",
              "<style scoped>\n",
              "    .dataframe tbody tr th:only-of-type {\n",
              "        vertical-align: middle;\n",
              "    }\n",
              "\n",
              "    .dataframe tbody tr th {\n",
              "        vertical-align: top;\n",
              "    }\n",
              "\n",
              "    .dataframe thead th {\n",
              "        text-align: right;\n",
              "    }\n",
              "</style>\n",
              "<table border=\"1\" class=\"dataframe\">\n",
              "  <thead>\n",
              "    <tr style=\"text-align: right;\">\n",
              "      <th></th>\n",
              "      <th>798</th>\n",
              "    </tr>\n",
              "  </thead>\n",
              "  <tbody>\n",
              "    <tr>\n",
              "      <th>1960</th>\n",
              "      <td>55.7388</td>\n",
              "    </tr>\n",
              "  </tbody>\n",
              "</table>\n",
              "</div>"
            ],
            "text/plain": [
              "          798\n",
              "1960  55.7388"
            ]
          },
          "metadata": {
            "tags": []
          },
          "execution_count": 7
        }
      ]
    },
    {
      "cell_type": "code",
      "metadata": {
        "id": "6dnHrLo6Adi4",
        "colab_type": "code",
        "outputId": "754f9003-f885-4e1d-8230-3ff86ad81097",
        "colab": {
          "base_uri": "https://localhost:8080/",
          "height": 204
        }
      },
      "source": [
        "sgp_surv_m = sgp_surv_m.rename(columns={798: 'Surv% 65'})\n",
        "sgp_surv_m.head()"
      ],
      "execution_count": 8,
      "outputs": [
        {
          "output_type": "execute_result",
          "data": {
            "text/html": [
              "<div>\n",
              "<style scoped>\n",
              "    .dataframe tbody tr th:only-of-type {\n",
              "        vertical-align: middle;\n",
              "    }\n",
              "\n",
              "    .dataframe tbody tr th {\n",
              "        vertical-align: top;\n",
              "    }\n",
              "\n",
              "    .dataframe thead th {\n",
              "        text-align: right;\n",
              "    }\n",
              "</style>\n",
              "<table border=\"1\" class=\"dataframe\">\n",
              "  <thead>\n",
              "    <tr style=\"text-align: right;\">\n",
              "      <th></th>\n",
              "      <th>Surv% 65</th>\n",
              "    </tr>\n",
              "  </thead>\n",
              "  <tbody>\n",
              "    <tr>\n",
              "      <th>1960</th>\n",
              "      <td>55.7388</td>\n",
              "    </tr>\n",
              "    <tr>\n",
              "      <th>1961</th>\n",
              "      <td>56.4084</td>\n",
              "    </tr>\n",
              "    <tr>\n",
              "      <th>1962</th>\n",
              "      <td>57.078</td>\n",
              "    </tr>\n",
              "    <tr>\n",
              "      <th>1963</th>\n",
              "      <td>57.657</td>\n",
              "    </tr>\n",
              "    <tr>\n",
              "      <th>1964</th>\n",
              "      <td>58.236</td>\n",
              "    </tr>\n",
              "  </tbody>\n",
              "</table>\n",
              "</div>"
            ],
            "text/plain": [
              "     Surv% 65\n",
              "1960  55.7388\n",
              "1961  56.4084\n",
              "1962   57.078\n",
              "1963   57.657\n",
              "1964   58.236"
            ]
          },
          "metadata": {
            "tags": []
          },
          "execution_count": 8
        }
      ]
    },
    {
      "cell_type": "code",
      "metadata": {
        "id": "afo0AA3GB30H",
        "colab_type": "code",
        "outputId": "23bb03b4-5b68-4391-8c2e-fc8de31aca87",
        "colab": {
          "base_uri": "https://localhost:8080/",
          "height": 204
        }
      },
      "source": [
        "# create a column called years and fill with 1960 - 2017\n",
        "sgp_surv_m['Years'] = (sixty_to_seventeen)\n",
        "# create a column called SGP \n",
        "sgp_surv_m['USA or SGP'] = sgp_surv_m.apply(lambda _: 'SPG', axis=1)\n",
        "# create a column called Male or Female \n",
        "sgp_surv_m['Male or Female'] = sgp_surv_m.apply(lambda _: 'Male', axis=1)\n",
        "sgp_surv_m = sgp_surv_m.reset_index(drop=True)\n",
        "sgp_surv_m.head()\n"
      ],
      "execution_count": 9,
      "outputs": [
        {
          "output_type": "execute_result",
          "data": {
            "text/html": [
              "<div>\n",
              "<style scoped>\n",
              "    .dataframe tbody tr th:only-of-type {\n",
              "        vertical-align: middle;\n",
              "    }\n",
              "\n",
              "    .dataframe tbody tr th {\n",
              "        vertical-align: top;\n",
              "    }\n",
              "\n",
              "    .dataframe thead th {\n",
              "        text-align: right;\n",
              "    }\n",
              "</style>\n",
              "<table border=\"1\" class=\"dataframe\">\n",
              "  <thead>\n",
              "    <tr style=\"text-align: right;\">\n",
              "      <th></th>\n",
              "      <th>Surv% 65</th>\n",
              "      <th>Years</th>\n",
              "      <th>USA or SGP</th>\n",
              "      <th>Male or Female</th>\n",
              "    </tr>\n",
              "  </thead>\n",
              "  <tbody>\n",
              "    <tr>\n",
              "      <th>0</th>\n",
              "      <td>55.7388</td>\n",
              "      <td>1960</td>\n",
              "      <td>SPG</td>\n",
              "      <td>Male</td>\n",
              "    </tr>\n",
              "    <tr>\n",
              "      <th>1</th>\n",
              "      <td>56.4084</td>\n",
              "      <td>1961</td>\n",
              "      <td>SPG</td>\n",
              "      <td>Male</td>\n",
              "    </tr>\n",
              "    <tr>\n",
              "      <th>2</th>\n",
              "      <td>57.078</td>\n",
              "      <td>1962</td>\n",
              "      <td>SPG</td>\n",
              "      <td>Male</td>\n",
              "    </tr>\n",
              "    <tr>\n",
              "      <th>3</th>\n",
              "      <td>57.657</td>\n",
              "      <td>1963</td>\n",
              "      <td>SPG</td>\n",
              "      <td>Male</td>\n",
              "    </tr>\n",
              "    <tr>\n",
              "      <th>4</th>\n",
              "      <td>58.236</td>\n",
              "      <td>1964</td>\n",
              "      <td>SPG</td>\n",
              "      <td>Male</td>\n",
              "    </tr>\n",
              "  </tbody>\n",
              "</table>\n",
              "</div>"
            ],
            "text/plain": [
              "  Surv% 65 Years USA or SGP Male or Female\n",
              "0  55.7388  1960        SPG           Male\n",
              "1  56.4084  1961        SPG           Male\n",
              "2   57.078  1962        SPG           Male\n",
              "3   57.657  1963        SPG           Male\n",
              "4   58.236  1964        SPG           Male"
            ]
          },
          "metadata": {
            "tags": []
          },
          "execution_count": 9
        }
      ]
    },
    {
      "cell_type": "markdown",
      "metadata": {
        "id": "q3aBRp_rAqj8",
        "colab_type": "text"
      },
      "source": [
        "# Singapore Survival to age 65, female (% of cohort)"
      ]
    },
    {
      "cell_type": "code",
      "metadata": {
        "id": "x9anrWjnA3mm",
        "colab_type": "code",
        "outputId": "58f18f77-c734-4629-f038-9d98e8ac51bb",
        "colab": {
          "base_uri": "https://localhost:8080/",
          "height": 168
        }
      },
      "source": [
        "sgp = pd.read_csv('https://raw.githubusercontent.com/Mark-McAdam/data_bank/master/singapore_dataset.csv')\n",
        "sgp = sgp.drop(columns=['Country Name', 'Indicator Code', 'Unnamed: 64', '2018', '2019'])\n",
        "sgp_surv_f = sgp[(sgp['Indicator Name'] == 'Survival to age 65, female (% of cohort)')]\n",
        "sgp_surv_f"
      ],
      "execution_count": 10,
      "outputs": [
        {
          "output_type": "execute_result",
          "data": {
            "text/html": [
              "<div>\n",
              "<style scoped>\n",
              "    .dataframe tbody tr th:only-of-type {\n",
              "        vertical-align: middle;\n",
              "    }\n",
              "\n",
              "    .dataframe tbody tr th {\n",
              "        vertical-align: top;\n",
              "    }\n",
              "\n",
              "    .dataframe thead th {\n",
              "        text-align: right;\n",
              "    }\n",
              "</style>\n",
              "<table border=\"1\" class=\"dataframe\">\n",
              "  <thead>\n",
              "    <tr style=\"text-align: right;\">\n",
              "      <th></th>\n",
              "      <th>Country Code</th>\n",
              "      <th>Indicator Name</th>\n",
              "      <th>1960</th>\n",
              "      <th>1961</th>\n",
              "      <th>1962</th>\n",
              "      <th>1963</th>\n",
              "      <th>1964</th>\n",
              "      <th>1965</th>\n",
              "      <th>1966</th>\n",
              "      <th>1967</th>\n",
              "      <th>1968</th>\n",
              "      <th>1969</th>\n",
              "      <th>1970</th>\n",
              "      <th>1971</th>\n",
              "      <th>1972</th>\n",
              "      <th>1973</th>\n",
              "      <th>1974</th>\n",
              "      <th>1975</th>\n",
              "      <th>1976</th>\n",
              "      <th>1977</th>\n",
              "      <th>1978</th>\n",
              "      <th>1979</th>\n",
              "      <th>1980</th>\n",
              "      <th>1981</th>\n",
              "      <th>1982</th>\n",
              "      <th>1983</th>\n",
              "      <th>1984</th>\n",
              "      <th>1985</th>\n",
              "      <th>1986</th>\n",
              "      <th>1987</th>\n",
              "      <th>1988</th>\n",
              "      <th>1989</th>\n",
              "      <th>1990</th>\n",
              "      <th>1991</th>\n",
              "      <th>1992</th>\n",
              "      <th>1993</th>\n",
              "      <th>1994</th>\n",
              "      <th>1995</th>\n",
              "      <th>1996</th>\n",
              "      <th>1997</th>\n",
              "      <th>1998</th>\n",
              "      <th>1999</th>\n",
              "      <th>2000</th>\n",
              "      <th>2001</th>\n",
              "      <th>2002</th>\n",
              "      <th>2003</th>\n",
              "      <th>2004</th>\n",
              "      <th>2005</th>\n",
              "      <th>2006</th>\n",
              "      <th>2007</th>\n",
              "      <th>2008</th>\n",
              "      <th>2009</th>\n",
              "      <th>2010</th>\n",
              "      <th>2011</th>\n",
              "      <th>2012</th>\n",
              "      <th>2013</th>\n",
              "      <th>2014</th>\n",
              "      <th>2015</th>\n",
              "      <th>2016</th>\n",
              "      <th>2017</th>\n",
              "    </tr>\n",
              "  </thead>\n",
              "  <tbody>\n",
              "    <tr>\n",
              "      <th>799</th>\n",
              "      <td>SGP</td>\n",
              "      <td>Survival to age 65, female (% of cohort)</td>\n",
              "      <td>71.3014</td>\n",
              "      <td>71.9202</td>\n",
              "      <td>72.539</td>\n",
              "      <td>73.132545</td>\n",
              "      <td>73.72609</td>\n",
              "      <td>74.319635</td>\n",
              "      <td>74.91318</td>\n",
              "      <td>75.506725</td>\n",
              "      <td>75.90975</td>\n",
              "      <td>76.312775</td>\n",
              "      <td>76.715799</td>\n",
              "      <td>77.118824</td>\n",
              "      <td>77.521849</td>\n",
              "      <td>78.078279</td>\n",
              "      <td>78.634709</td>\n",
              "      <td>79.19114</td>\n",
              "      <td>79.74757</td>\n",
              "      <td>80.304</td>\n",
              "      <td>80.805906</td>\n",
              "      <td>81.307811</td>\n",
              "      <td>81.809717</td>\n",
              "      <td>82.311622</td>\n",
              "      <td>82.813528</td>\n",
              "      <td>83.179348</td>\n",
              "      <td>83.545168</td>\n",
              "      <td>83.910987</td>\n",
              "      <td>84.276807</td>\n",
              "      <td>84.642627</td>\n",
              "      <td>85.095417</td>\n",
              "      <td>85.548207</td>\n",
              "      <td>86.000997</td>\n",
              "      <td>86.453787</td>\n",
              "      <td>86.906577</td>\n",
              "      <td>87.175974</td>\n",
              "      <td>87.445371</td>\n",
              "      <td>87.714768</td>\n",
              "      <td>87.984165</td>\n",
              "      <td>88.253562</td>\n",
              "      <td>88.825159</td>\n",
              "      <td>89.396756</td>\n",
              "      <td>89.968353</td>\n",
              "      <td>90.53995</td>\n",
              "      <td>91.111547</td>\n",
              "      <td>91.350577</td>\n",
              "      <td>91.589607</td>\n",
              "      <td>91.828637</td>\n",
              "      <td>92.067667</td>\n",
              "      <td>92.306697</td>\n",
              "      <td>92.494158</td>\n",
              "      <td>92.681618</td>\n",
              "      <td>92.869079</td>\n",
              "      <td>93.056539</td>\n",
              "      <td>93.244</td>\n",
              "      <td>93.419978</td>\n",
              "      <td>93.595956</td>\n",
              "      <td>93.771933</td>\n",
              "      <td>93.947911</td>\n",
              "      <td>94.123889</td>\n",
              "    </tr>\n",
              "  </tbody>\n",
              "</table>\n",
              "</div>"
            ],
            "text/plain": [
              "    Country Code  ...       2017\n",
              "799          SGP  ...  94.123889\n",
              "\n",
              "[1 rows x 60 columns]"
            ]
          },
          "metadata": {
            "tags": []
          },
          "execution_count": 10
        }
      ]
    },
    {
      "cell_type": "code",
      "metadata": {
        "id": "8p33_aGuA3j2",
        "colab_type": "code",
        "outputId": "c28d0e94-7be9-4302-f0b0-549911c8e7b0",
        "colab": {
          "base_uri": "https://localhost:8080/",
          "height": 80
        }
      },
      "source": [
        "sgp_surv_f = sgp_surv_f.T\n",
        "sgp_surv_f[0:1]"
      ],
      "execution_count": 11,
      "outputs": [
        {
          "output_type": "execute_result",
          "data": {
            "text/html": [
              "<div>\n",
              "<style scoped>\n",
              "    .dataframe tbody tr th:only-of-type {\n",
              "        vertical-align: middle;\n",
              "    }\n",
              "\n",
              "    .dataframe tbody tr th {\n",
              "        vertical-align: top;\n",
              "    }\n",
              "\n",
              "    .dataframe thead th {\n",
              "        text-align: right;\n",
              "    }\n",
              "</style>\n",
              "<table border=\"1\" class=\"dataframe\">\n",
              "  <thead>\n",
              "    <tr style=\"text-align: right;\">\n",
              "      <th></th>\n",
              "      <th>799</th>\n",
              "    </tr>\n",
              "  </thead>\n",
              "  <tbody>\n",
              "    <tr>\n",
              "      <th>Country Code</th>\n",
              "      <td>SGP</td>\n",
              "    </tr>\n",
              "  </tbody>\n",
              "</table>\n",
              "</div>"
            ],
            "text/plain": [
              "              799\n",
              "Country Code  SGP"
            ]
          },
          "metadata": {
            "tags": []
          },
          "execution_count": 11
        }
      ]
    },
    {
      "cell_type": "code",
      "metadata": {
        "id": "6aEKKE7HA3hK",
        "colab_type": "code",
        "outputId": "00e41a55-4011-424a-da64-9483bcfd6c7d",
        "colab": {
          "base_uri": "https://localhost:8080/",
          "height": 80
        }
      },
      "source": [
        "sgp_surv_f.drop('Country Code', inplace=True)\n",
        "sgp_surv_f[0:1]"
      ],
      "execution_count": 12,
      "outputs": [
        {
          "output_type": "execute_result",
          "data": {
            "text/html": [
              "<div>\n",
              "<style scoped>\n",
              "    .dataframe tbody tr th:only-of-type {\n",
              "        vertical-align: middle;\n",
              "    }\n",
              "\n",
              "    .dataframe tbody tr th {\n",
              "        vertical-align: top;\n",
              "    }\n",
              "\n",
              "    .dataframe thead th {\n",
              "        text-align: right;\n",
              "    }\n",
              "</style>\n",
              "<table border=\"1\" class=\"dataframe\">\n",
              "  <thead>\n",
              "    <tr style=\"text-align: right;\">\n",
              "      <th></th>\n",
              "      <th>799</th>\n",
              "    </tr>\n",
              "  </thead>\n",
              "  <tbody>\n",
              "    <tr>\n",
              "      <th>Indicator Name</th>\n",
              "      <td>Survival to age 65, female (% of cohort)</td>\n",
              "    </tr>\n",
              "  </tbody>\n",
              "</table>\n",
              "</div>"
            ],
            "text/plain": [
              "                                                     799\n",
              "Indicator Name  Survival to age 65, female (% of cohort)"
            ]
          },
          "metadata": {
            "tags": []
          },
          "execution_count": 12
        }
      ]
    },
    {
      "cell_type": "code",
      "metadata": {
        "id": "INsU39R0A3eT",
        "colab_type": "code",
        "outputId": "cf79eab6-3ad4-4e8f-e63b-4b97c152d0c7",
        "colab": {
          "base_uri": "https://localhost:8080/",
          "height": 80
        }
      },
      "source": [
        "sgp_surv_f.drop('Indicator Name', inplace=True)\n",
        "sgp_surv_f.head(1)"
      ],
      "execution_count": 13,
      "outputs": [
        {
          "output_type": "execute_result",
          "data": {
            "text/html": [
              "<div>\n",
              "<style scoped>\n",
              "    .dataframe tbody tr th:only-of-type {\n",
              "        vertical-align: middle;\n",
              "    }\n",
              "\n",
              "    .dataframe tbody tr th {\n",
              "        vertical-align: top;\n",
              "    }\n",
              "\n",
              "    .dataframe thead th {\n",
              "        text-align: right;\n",
              "    }\n",
              "</style>\n",
              "<table border=\"1\" class=\"dataframe\">\n",
              "  <thead>\n",
              "    <tr style=\"text-align: right;\">\n",
              "      <th></th>\n",
              "      <th>799</th>\n",
              "    </tr>\n",
              "  </thead>\n",
              "  <tbody>\n",
              "    <tr>\n",
              "      <th>1960</th>\n",
              "      <td>71.3014</td>\n",
              "    </tr>\n",
              "  </tbody>\n",
              "</table>\n",
              "</div>"
            ],
            "text/plain": [
              "          799\n",
              "1960  71.3014"
            ]
          },
          "metadata": {
            "tags": []
          },
          "execution_count": 13
        }
      ]
    },
    {
      "cell_type": "code",
      "metadata": {
        "id": "-0CzVCquA3b2",
        "colab_type": "code",
        "outputId": "80915af6-0b3a-49ea-feae-fa4fe1a3063f",
        "colab": {
          "base_uri": "https://localhost:8080/",
          "height": 204
        }
      },
      "source": [
        "sgp_surv_f = sgp_surv_f.rename(columns={799: 'Surv% 65'})\n",
        "sgp_surv_f.head()"
      ],
      "execution_count": 14,
      "outputs": [
        {
          "output_type": "execute_result",
          "data": {
            "text/html": [
              "<div>\n",
              "<style scoped>\n",
              "    .dataframe tbody tr th:only-of-type {\n",
              "        vertical-align: middle;\n",
              "    }\n",
              "\n",
              "    .dataframe tbody tr th {\n",
              "        vertical-align: top;\n",
              "    }\n",
              "\n",
              "    .dataframe thead th {\n",
              "        text-align: right;\n",
              "    }\n",
              "</style>\n",
              "<table border=\"1\" class=\"dataframe\">\n",
              "  <thead>\n",
              "    <tr style=\"text-align: right;\">\n",
              "      <th></th>\n",
              "      <th>Surv% 65</th>\n",
              "    </tr>\n",
              "  </thead>\n",
              "  <tbody>\n",
              "    <tr>\n",
              "      <th>1960</th>\n",
              "      <td>71.3014</td>\n",
              "    </tr>\n",
              "    <tr>\n",
              "      <th>1961</th>\n",
              "      <td>71.9202</td>\n",
              "    </tr>\n",
              "    <tr>\n",
              "      <th>1962</th>\n",
              "      <td>72.539</td>\n",
              "    </tr>\n",
              "    <tr>\n",
              "      <th>1963</th>\n",
              "      <td>73.1325</td>\n",
              "    </tr>\n",
              "    <tr>\n",
              "      <th>1964</th>\n",
              "      <td>73.7261</td>\n",
              "    </tr>\n",
              "  </tbody>\n",
              "</table>\n",
              "</div>"
            ],
            "text/plain": [
              "     Surv% 65\n",
              "1960  71.3014\n",
              "1961  71.9202\n",
              "1962   72.539\n",
              "1963  73.1325\n",
              "1964  73.7261"
            ]
          },
          "metadata": {
            "tags": []
          },
          "execution_count": 14
        }
      ]
    },
    {
      "cell_type": "code",
      "metadata": {
        "id": "xVDFM91FA3ZO",
        "colab_type": "code",
        "outputId": "bd775f11-df89-40f6-ce36-529f33be6301",
        "colab": {
          "base_uri": "https://localhost:8080/",
          "height": 204
        }
      },
      "source": [
        "# create a column called years and fill with 1960 - 2017\n",
        "sgp_surv_f['Years'] = (sixty_to_seventeen)\n",
        "# create a column called SGP \n",
        "sgp_surv_f['USA or SGP'] = sgp_surv_f.apply(lambda _: 'SPG', axis=1)\n",
        "# create a column called Male or Female \n",
        "sgp_surv_f['Male or Female'] = sgp_surv_f.apply(lambda _: 'Female', axis=1)\n",
        "sgp_surv_f = sgp_surv_f.reset_index(drop=True)\n",
        "sgp_surv_f.head()"
      ],
      "execution_count": 15,
      "outputs": [
        {
          "output_type": "execute_result",
          "data": {
            "text/html": [
              "<div>\n",
              "<style scoped>\n",
              "    .dataframe tbody tr th:only-of-type {\n",
              "        vertical-align: middle;\n",
              "    }\n",
              "\n",
              "    .dataframe tbody tr th {\n",
              "        vertical-align: top;\n",
              "    }\n",
              "\n",
              "    .dataframe thead th {\n",
              "        text-align: right;\n",
              "    }\n",
              "</style>\n",
              "<table border=\"1\" class=\"dataframe\">\n",
              "  <thead>\n",
              "    <tr style=\"text-align: right;\">\n",
              "      <th></th>\n",
              "      <th>Surv% 65</th>\n",
              "      <th>Years</th>\n",
              "      <th>USA or SGP</th>\n",
              "      <th>Male or Female</th>\n",
              "    </tr>\n",
              "  </thead>\n",
              "  <tbody>\n",
              "    <tr>\n",
              "      <th>0</th>\n",
              "      <td>71.3014</td>\n",
              "      <td>1960</td>\n",
              "      <td>SPG</td>\n",
              "      <td>Female</td>\n",
              "    </tr>\n",
              "    <tr>\n",
              "      <th>1</th>\n",
              "      <td>71.9202</td>\n",
              "      <td>1961</td>\n",
              "      <td>SPG</td>\n",
              "      <td>Female</td>\n",
              "    </tr>\n",
              "    <tr>\n",
              "      <th>2</th>\n",
              "      <td>72.539</td>\n",
              "      <td>1962</td>\n",
              "      <td>SPG</td>\n",
              "      <td>Female</td>\n",
              "    </tr>\n",
              "    <tr>\n",
              "      <th>3</th>\n",
              "      <td>73.1325</td>\n",
              "      <td>1963</td>\n",
              "      <td>SPG</td>\n",
              "      <td>Female</td>\n",
              "    </tr>\n",
              "    <tr>\n",
              "      <th>4</th>\n",
              "      <td>73.7261</td>\n",
              "      <td>1964</td>\n",
              "      <td>SPG</td>\n",
              "      <td>Female</td>\n",
              "    </tr>\n",
              "  </tbody>\n",
              "</table>\n",
              "</div>"
            ],
            "text/plain": [
              "  Surv% 65 Years USA or SGP Male or Female\n",
              "0  71.3014  1960        SPG         Female\n",
              "1  71.9202  1961        SPG         Female\n",
              "2   72.539  1962        SPG         Female\n",
              "3  73.1325  1963        SPG         Female\n",
              "4  73.7261  1964        SPG         Female"
            ]
          },
          "metadata": {
            "tags": []
          },
          "execution_count": 15
        }
      ]
    },
    {
      "cell_type": "markdown",
      "metadata": {
        "id": "r4Fa0oNhArRL",
        "colab_type": "text"
      },
      "source": [
        "# United States Survival to age 65, male (% of cohort)"
      ]
    },
    {
      "cell_type": "code",
      "metadata": {
        "id": "sXa3s8GMA4dM",
        "colab_type": "code",
        "outputId": "76eb82c9-e608-46c4-9a93-0326c86c2f31",
        "colab": {
          "base_uri": "https://localhost:8080/",
          "height": 168
        }
      },
      "source": [
        "usa = pd.read_csv('https://raw.githubusercontent.com/Mark-McAdam/data_bank/master/united_states_dataset.csv')\n",
        "usa = usa.drop(columns=['Country Name', 'Indicator Code', 'Unnamed: 64', '2018', '2019'])\n",
        "usa_surv_m = usa[(usa['Indicator Name'] == 'Survival to age 65, male (% of cohort)')]\n",
        "usa_surv_m"
      ],
      "execution_count": 16,
      "outputs": [
        {
          "output_type": "execute_result",
          "data": {
            "text/html": [
              "<div>\n",
              "<style scoped>\n",
              "    .dataframe tbody tr th:only-of-type {\n",
              "        vertical-align: middle;\n",
              "    }\n",
              "\n",
              "    .dataframe tbody tr th {\n",
              "        vertical-align: top;\n",
              "    }\n",
              "\n",
              "    .dataframe thead th {\n",
              "        text-align: right;\n",
              "    }\n",
              "</style>\n",
              "<table border=\"1\" class=\"dataframe\">\n",
              "  <thead>\n",
              "    <tr style=\"text-align: right;\">\n",
              "      <th></th>\n",
              "      <th>Country Code</th>\n",
              "      <th>Indicator Name</th>\n",
              "      <th>1960</th>\n",
              "      <th>1961</th>\n",
              "      <th>1962</th>\n",
              "      <th>1963</th>\n",
              "      <th>1964</th>\n",
              "      <th>1965</th>\n",
              "      <th>1966</th>\n",
              "      <th>1967</th>\n",
              "      <th>1968</th>\n",
              "      <th>1969</th>\n",
              "      <th>1970</th>\n",
              "      <th>1971</th>\n",
              "      <th>1972</th>\n",
              "      <th>1973</th>\n",
              "      <th>1974</th>\n",
              "      <th>1975</th>\n",
              "      <th>1976</th>\n",
              "      <th>1977</th>\n",
              "      <th>1978</th>\n",
              "      <th>1979</th>\n",
              "      <th>1980</th>\n",
              "      <th>1981</th>\n",
              "      <th>1982</th>\n",
              "      <th>1983</th>\n",
              "      <th>1984</th>\n",
              "      <th>1985</th>\n",
              "      <th>1986</th>\n",
              "      <th>1987</th>\n",
              "      <th>1988</th>\n",
              "      <th>1989</th>\n",
              "      <th>1990</th>\n",
              "      <th>1991</th>\n",
              "      <th>1992</th>\n",
              "      <th>1993</th>\n",
              "      <th>1994</th>\n",
              "      <th>1995</th>\n",
              "      <th>1996</th>\n",
              "      <th>1997</th>\n",
              "      <th>1998</th>\n",
              "      <th>1999</th>\n",
              "      <th>2000</th>\n",
              "      <th>2001</th>\n",
              "      <th>2002</th>\n",
              "      <th>2003</th>\n",
              "      <th>2004</th>\n",
              "      <th>2005</th>\n",
              "      <th>2006</th>\n",
              "      <th>2007</th>\n",
              "      <th>2008</th>\n",
              "      <th>2009</th>\n",
              "      <th>2010</th>\n",
              "      <th>2011</th>\n",
              "      <th>2012</th>\n",
              "      <th>2013</th>\n",
              "      <th>2014</th>\n",
              "      <th>2015</th>\n",
              "      <th>2016</th>\n",
              "      <th>2017</th>\n",
              "    </tr>\n",
              "  </thead>\n",
              "  <tbody>\n",
              "    <tr>\n",
              "      <th>653</th>\n",
              "      <td>USA</td>\n",
              "      <td>Survival to age 65, male (% of cohort)</td>\n",
              "      <td>63.960704</td>\n",
              "      <td>64.011012</td>\n",
              "      <td>64.06132</td>\n",
              "      <td>64.005645</td>\n",
              "      <td>63.949971</td>\n",
              "      <td>63.894296</td>\n",
              "      <td>63.838622</td>\n",
              "      <td>63.782947</td>\n",
              "      <td>64.159646</td>\n",
              "      <td>64.536344</td>\n",
              "      <td>64.913043</td>\n",
              "      <td>65.289741</td>\n",
              "      <td>65.66644</td>\n",
              "      <td>66.396051</td>\n",
              "      <td>67.125662</td>\n",
              "      <td>67.855274</td>\n",
              "      <td>68.584885</td>\n",
              "      <td>69.314496</td>\n",
              "      <td>69.850188</td>\n",
              "      <td>70.385879</td>\n",
              "      <td>70.921571</td>\n",
              "      <td>71.457262</td>\n",
              "      <td>71.992954</td>\n",
              "      <td>72.249233</td>\n",
              "      <td>72.505512</td>\n",
              "      <td>72.761791</td>\n",
              "      <td>73.01807</td>\n",
              "      <td>73.274349</td>\n",
              "      <td>73.568993</td>\n",
              "      <td>73.863637</td>\n",
              "      <td>74.15828</td>\n",
              "      <td>74.452924</td>\n",
              "      <td>74.747568</td>\n",
              "      <td>75.258667</td>\n",
              "      <td>75.769766</td>\n",
              "      <td>76.280864</td>\n",
              "      <td>76.791963</td>\n",
              "      <td>77.303062</td>\n",
              "      <td>77.589618</td>\n",
              "      <td>77.876174</td>\n",
              "      <td>78.162729</td>\n",
              "      <td>78.449285</td>\n",
              "      <td>78.735841</td>\n",
              "      <td>78.960847</td>\n",
              "      <td>79.185853</td>\n",
              "      <td>79.41086</td>\n",
              "      <td>79.635866</td>\n",
              "      <td>79.860872</td>\n",
              "      <td>80.0166</td>\n",
              "      <td>80.172328</td>\n",
              "      <td>80.328057</td>\n",
              "      <td>80.483785</td>\n",
              "      <td>80.639513</td>\n",
              "      <td>80.449807</td>\n",
              "      <td>80.260102</td>\n",
              "      <td>80.070396</td>\n",
              "      <td>79.880691</td>\n",
              "      <td>79.690985</td>\n",
              "    </tr>\n",
              "  </tbody>\n",
              "</table>\n",
              "</div>"
            ],
            "text/plain": [
              "    Country Code                          Indicator Name  ...       2016       2017\n",
              "653          USA  Survival to age 65, male (% of cohort)  ...  79.880691  79.690985\n",
              "\n",
              "[1 rows x 60 columns]"
            ]
          },
          "metadata": {
            "tags": []
          },
          "execution_count": 16
        }
      ]
    },
    {
      "cell_type": "code",
      "metadata": {
        "id": "OU-VH6fpA4az",
        "colab_type": "code",
        "outputId": "c4a4c7d5-b605-468f-e46b-80d97dfea531",
        "colab": {
          "base_uri": "https://localhost:8080/",
          "height": 80
        }
      },
      "source": [
        "usa_surv_m = usa_surv_m.T\n",
        "usa_surv_m[0:1]"
      ],
      "execution_count": 17,
      "outputs": [
        {
          "output_type": "execute_result",
          "data": {
            "text/html": [
              "<div>\n",
              "<style scoped>\n",
              "    .dataframe tbody tr th:only-of-type {\n",
              "        vertical-align: middle;\n",
              "    }\n",
              "\n",
              "    .dataframe tbody tr th {\n",
              "        vertical-align: top;\n",
              "    }\n",
              "\n",
              "    .dataframe thead th {\n",
              "        text-align: right;\n",
              "    }\n",
              "</style>\n",
              "<table border=\"1\" class=\"dataframe\">\n",
              "  <thead>\n",
              "    <tr style=\"text-align: right;\">\n",
              "      <th></th>\n",
              "      <th>653</th>\n",
              "    </tr>\n",
              "  </thead>\n",
              "  <tbody>\n",
              "    <tr>\n",
              "      <th>Country Code</th>\n",
              "      <td>USA</td>\n",
              "    </tr>\n",
              "  </tbody>\n",
              "</table>\n",
              "</div>"
            ],
            "text/plain": [
              "              653\n",
              "Country Code  USA"
            ]
          },
          "metadata": {
            "tags": []
          },
          "execution_count": 17
        }
      ]
    },
    {
      "cell_type": "code",
      "metadata": {
        "id": "Nr5fgdcvA4X2",
        "colab_type": "code",
        "outputId": "d201c00d-ca92-4352-bb4f-95c4df44534a",
        "colab": {
          "base_uri": "https://localhost:8080/",
          "height": 80
        }
      },
      "source": [
        "usa_surv_m.drop('Country Code', inplace=True)\n",
        "usa_surv_m[0:1]"
      ],
      "execution_count": 18,
      "outputs": [
        {
          "output_type": "execute_result",
          "data": {
            "text/html": [
              "<div>\n",
              "<style scoped>\n",
              "    .dataframe tbody tr th:only-of-type {\n",
              "        vertical-align: middle;\n",
              "    }\n",
              "\n",
              "    .dataframe tbody tr th {\n",
              "        vertical-align: top;\n",
              "    }\n",
              "\n",
              "    .dataframe thead th {\n",
              "        text-align: right;\n",
              "    }\n",
              "</style>\n",
              "<table border=\"1\" class=\"dataframe\">\n",
              "  <thead>\n",
              "    <tr style=\"text-align: right;\">\n",
              "      <th></th>\n",
              "      <th>653</th>\n",
              "    </tr>\n",
              "  </thead>\n",
              "  <tbody>\n",
              "    <tr>\n",
              "      <th>Indicator Name</th>\n",
              "      <td>Survival to age 65, male (% of cohort)</td>\n",
              "    </tr>\n",
              "  </tbody>\n",
              "</table>\n",
              "</div>"
            ],
            "text/plain": [
              "                                                   653\n",
              "Indicator Name  Survival to age 65, male (% of cohort)"
            ]
          },
          "metadata": {
            "tags": []
          },
          "execution_count": 18
        }
      ]
    },
    {
      "cell_type": "code",
      "metadata": {
        "id": "6mFLzbQgA4VR",
        "colab_type": "code",
        "outputId": "e1867c34-21a7-4dc9-f71e-e17ad5405f85",
        "colab": {
          "base_uri": "https://localhost:8080/",
          "height": 80
        }
      },
      "source": [
        "usa_surv_m.drop('Indicator Name', inplace=True)\n",
        "usa_surv_m.head(1)"
      ],
      "execution_count": 19,
      "outputs": [
        {
          "output_type": "execute_result",
          "data": {
            "text/html": [
              "<div>\n",
              "<style scoped>\n",
              "    .dataframe tbody tr th:only-of-type {\n",
              "        vertical-align: middle;\n",
              "    }\n",
              "\n",
              "    .dataframe tbody tr th {\n",
              "        vertical-align: top;\n",
              "    }\n",
              "\n",
              "    .dataframe thead th {\n",
              "        text-align: right;\n",
              "    }\n",
              "</style>\n",
              "<table border=\"1\" class=\"dataframe\">\n",
              "  <thead>\n",
              "    <tr style=\"text-align: right;\">\n",
              "      <th></th>\n",
              "      <th>653</th>\n",
              "    </tr>\n",
              "  </thead>\n",
              "  <tbody>\n",
              "    <tr>\n",
              "      <th>1960</th>\n",
              "      <td>63.9607</td>\n",
              "    </tr>\n",
              "  </tbody>\n",
              "</table>\n",
              "</div>"
            ],
            "text/plain": [
              "          653\n",
              "1960  63.9607"
            ]
          },
          "metadata": {
            "tags": []
          },
          "execution_count": 19
        }
      ]
    },
    {
      "cell_type": "code",
      "metadata": {
        "id": "Oq8p3JSDA4Sj",
        "colab_type": "code",
        "outputId": "667fd6b8-c98b-438d-a988-5ebb5cd2d016",
        "colab": {
          "base_uri": "https://localhost:8080/",
          "height": 204
        }
      },
      "source": [
        "usa_surv_m = usa_surv_m.rename(columns={653: 'Surv% 65'})\n",
        "usa_surv_m.head()"
      ],
      "execution_count": 20,
      "outputs": [
        {
          "output_type": "execute_result",
          "data": {
            "text/html": [
              "<div>\n",
              "<style scoped>\n",
              "    .dataframe tbody tr th:only-of-type {\n",
              "        vertical-align: middle;\n",
              "    }\n",
              "\n",
              "    .dataframe tbody tr th {\n",
              "        vertical-align: top;\n",
              "    }\n",
              "\n",
              "    .dataframe thead th {\n",
              "        text-align: right;\n",
              "    }\n",
              "</style>\n",
              "<table border=\"1\" class=\"dataframe\">\n",
              "  <thead>\n",
              "    <tr style=\"text-align: right;\">\n",
              "      <th></th>\n",
              "      <th>Surv% 65</th>\n",
              "    </tr>\n",
              "  </thead>\n",
              "  <tbody>\n",
              "    <tr>\n",
              "      <th>1960</th>\n",
              "      <td>63.9607</td>\n",
              "    </tr>\n",
              "    <tr>\n",
              "      <th>1961</th>\n",
              "      <td>64.011</td>\n",
              "    </tr>\n",
              "    <tr>\n",
              "      <th>1962</th>\n",
              "      <td>64.0613</td>\n",
              "    </tr>\n",
              "    <tr>\n",
              "      <th>1963</th>\n",
              "      <td>64.0056</td>\n",
              "    </tr>\n",
              "    <tr>\n",
              "      <th>1964</th>\n",
              "      <td>63.95</td>\n",
              "    </tr>\n",
              "  </tbody>\n",
              "</table>\n",
              "</div>"
            ],
            "text/plain": [
              "     Surv% 65\n",
              "1960  63.9607\n",
              "1961   64.011\n",
              "1962  64.0613\n",
              "1963  64.0056\n",
              "1964    63.95"
            ]
          },
          "metadata": {
            "tags": []
          },
          "execution_count": 20
        }
      ]
    },
    {
      "cell_type": "code",
      "metadata": {
        "id": "rwbTTINDA4QE",
        "colab_type": "code",
        "outputId": "834c22b4-5825-4bd9-8c88-eec0d0143cb4",
        "colab": {
          "base_uri": "https://localhost:8080/",
          "height": 204
        }
      },
      "source": [
        "# create a column called years and fill with 1960 - 2017\n",
        "usa_surv_m['Years'] = (sixty_to_seventeen)\n",
        "# create a column called USA \n",
        "usa_surv_m['USA or SGP'] = usa_surv_m.apply(lambda _: 'USA', axis=1)\n",
        "# create a column called Male or Female \n",
        "usa_surv_m['Male or Female'] = usa_surv_m.apply(lambda _: 'Male', axis=1)\n",
        "usa_surv_m = usa_surv_m.reset_index(drop=True)\n",
        "usa_surv_m.head()\n"
      ],
      "execution_count": 21,
      "outputs": [
        {
          "output_type": "execute_result",
          "data": {
            "text/html": [
              "<div>\n",
              "<style scoped>\n",
              "    .dataframe tbody tr th:only-of-type {\n",
              "        vertical-align: middle;\n",
              "    }\n",
              "\n",
              "    .dataframe tbody tr th {\n",
              "        vertical-align: top;\n",
              "    }\n",
              "\n",
              "    .dataframe thead th {\n",
              "        text-align: right;\n",
              "    }\n",
              "</style>\n",
              "<table border=\"1\" class=\"dataframe\">\n",
              "  <thead>\n",
              "    <tr style=\"text-align: right;\">\n",
              "      <th></th>\n",
              "      <th>Surv% 65</th>\n",
              "      <th>Years</th>\n",
              "      <th>USA or SGP</th>\n",
              "      <th>Male or Female</th>\n",
              "    </tr>\n",
              "  </thead>\n",
              "  <tbody>\n",
              "    <tr>\n",
              "      <th>0</th>\n",
              "      <td>63.9607</td>\n",
              "      <td>1960</td>\n",
              "      <td>USA</td>\n",
              "      <td>Male</td>\n",
              "    </tr>\n",
              "    <tr>\n",
              "      <th>1</th>\n",
              "      <td>64.011</td>\n",
              "      <td>1961</td>\n",
              "      <td>USA</td>\n",
              "      <td>Male</td>\n",
              "    </tr>\n",
              "    <tr>\n",
              "      <th>2</th>\n",
              "      <td>64.0613</td>\n",
              "      <td>1962</td>\n",
              "      <td>USA</td>\n",
              "      <td>Male</td>\n",
              "    </tr>\n",
              "    <tr>\n",
              "      <th>3</th>\n",
              "      <td>64.0056</td>\n",
              "      <td>1963</td>\n",
              "      <td>USA</td>\n",
              "      <td>Male</td>\n",
              "    </tr>\n",
              "    <tr>\n",
              "      <th>4</th>\n",
              "      <td>63.95</td>\n",
              "      <td>1964</td>\n",
              "      <td>USA</td>\n",
              "      <td>Male</td>\n",
              "    </tr>\n",
              "  </tbody>\n",
              "</table>\n",
              "</div>"
            ],
            "text/plain": [
              "  Surv% 65 Years USA or SGP Male or Female\n",
              "0  63.9607  1960        USA           Male\n",
              "1   64.011  1961        USA           Male\n",
              "2  64.0613  1962        USA           Male\n",
              "3  64.0056  1963        USA           Male\n",
              "4    63.95  1964        USA           Male"
            ]
          },
          "metadata": {
            "tags": []
          },
          "execution_count": 21
        }
      ]
    },
    {
      "cell_type": "markdown",
      "metadata": {
        "id": "kJk9tcrQAq_1",
        "colab_type": "text"
      },
      "source": [
        "# United States Survival to age 65, female (% of cohort)"
      ]
    },
    {
      "cell_type": "code",
      "metadata": {
        "id": "Rf12gZ5EA5YG",
        "colab_type": "code",
        "outputId": "08da0c71-466c-43c4-cc13-dfc62d2afb95",
        "colab": {
          "base_uri": "https://localhost:8080/",
          "height": 168
        }
      },
      "source": [
        "usa = pd.read_csv('https://raw.githubusercontent.com/Mark-McAdam/data_bank/master/united_states_dataset.csv')\n",
        "usa = usa.drop(columns=['Country Name', 'Indicator Code', 'Unnamed: 64', '2018', '2019'])\n",
        "usa_surv_f = usa[(usa['Indicator Name'] == 'Survival to age 65, female (% of cohort)')]\n",
        "usa_surv_f"
      ],
      "execution_count": 22,
      "outputs": [
        {
          "output_type": "execute_result",
          "data": {
            "text/html": [
              "<div>\n",
              "<style scoped>\n",
              "    .dataframe tbody tr th:only-of-type {\n",
              "        vertical-align: middle;\n",
              "    }\n",
              "\n",
              "    .dataframe tbody tr th {\n",
              "        vertical-align: top;\n",
              "    }\n",
              "\n",
              "    .dataframe thead th {\n",
              "        text-align: right;\n",
              "    }\n",
              "</style>\n",
              "<table border=\"1\" class=\"dataframe\">\n",
              "  <thead>\n",
              "    <tr style=\"text-align: right;\">\n",
              "      <th></th>\n",
              "      <th>Country Code</th>\n",
              "      <th>Indicator Name</th>\n",
              "      <th>1960</th>\n",
              "      <th>1961</th>\n",
              "      <th>1962</th>\n",
              "      <th>1963</th>\n",
              "      <th>1964</th>\n",
              "      <th>1965</th>\n",
              "      <th>1966</th>\n",
              "      <th>1967</th>\n",
              "      <th>1968</th>\n",
              "      <th>1969</th>\n",
              "      <th>1970</th>\n",
              "      <th>1971</th>\n",
              "      <th>1972</th>\n",
              "      <th>1973</th>\n",
              "      <th>1974</th>\n",
              "      <th>1975</th>\n",
              "      <th>1976</th>\n",
              "      <th>1977</th>\n",
              "      <th>1978</th>\n",
              "      <th>1979</th>\n",
              "      <th>1980</th>\n",
              "      <th>1981</th>\n",
              "      <th>1982</th>\n",
              "      <th>1983</th>\n",
              "      <th>1984</th>\n",
              "      <th>1985</th>\n",
              "      <th>1986</th>\n",
              "      <th>1987</th>\n",
              "      <th>1988</th>\n",
              "      <th>1989</th>\n",
              "      <th>1990</th>\n",
              "      <th>1991</th>\n",
              "      <th>1992</th>\n",
              "      <th>1993</th>\n",
              "      <th>1994</th>\n",
              "      <th>1995</th>\n",
              "      <th>1996</th>\n",
              "      <th>1997</th>\n",
              "      <th>1998</th>\n",
              "      <th>1999</th>\n",
              "      <th>2000</th>\n",
              "      <th>2001</th>\n",
              "      <th>2002</th>\n",
              "      <th>2003</th>\n",
              "      <th>2004</th>\n",
              "      <th>2005</th>\n",
              "      <th>2006</th>\n",
              "      <th>2007</th>\n",
              "      <th>2008</th>\n",
              "      <th>2009</th>\n",
              "      <th>2010</th>\n",
              "      <th>2011</th>\n",
              "      <th>2012</th>\n",
              "      <th>2013</th>\n",
              "      <th>2014</th>\n",
              "      <th>2015</th>\n",
              "      <th>2016</th>\n",
              "      <th>2017</th>\n",
              "    </tr>\n",
              "  </thead>\n",
              "  <tbody>\n",
              "    <tr>\n",
              "      <th>654</th>\n",
              "      <td>USA</td>\n",
              "      <td>Survival to age 65, female (% of cohort)</td>\n",
              "      <td>78.311575</td>\n",
              "      <td>78.466188</td>\n",
              "      <td>78.620801</td>\n",
              "      <td>78.74958</td>\n",
              "      <td>78.878359</td>\n",
              "      <td>79.007137</td>\n",
              "      <td>79.135916</td>\n",
              "      <td>79.264695</td>\n",
              "      <td>79.533015</td>\n",
              "      <td>79.801336</td>\n",
              "      <td>80.069656</td>\n",
              "      <td>80.337977</td>\n",
              "      <td>80.606297</td>\n",
              "      <td>81.044022</td>\n",
              "      <td>81.481747</td>\n",
              "      <td>81.919472</td>\n",
              "      <td>82.357197</td>\n",
              "      <td>82.794922</td>\n",
              "      <td>83.037859</td>\n",
              "      <td>83.280796</td>\n",
              "      <td>83.523733</td>\n",
              "      <td>83.76667</td>\n",
              "      <td>84.009607</td>\n",
              "      <td>84.135756</td>\n",
              "      <td>84.261904</td>\n",
              "      <td>84.388053</td>\n",
              "      <td>84.514201</td>\n",
              "      <td>84.64035</td>\n",
              "      <td>84.797069</td>\n",
              "      <td>84.953789</td>\n",
              "      <td>85.110508</td>\n",
              "      <td>85.267228</td>\n",
              "      <td>85.423947</td>\n",
              "      <td>85.572889</td>\n",
              "      <td>85.721832</td>\n",
              "      <td>85.870774</td>\n",
              "      <td>86.019717</td>\n",
              "      <td>86.168659</td>\n",
              "      <td>86.285532</td>\n",
              "      <td>86.402405</td>\n",
              "      <td>86.519279</td>\n",
              "      <td>86.636152</td>\n",
              "      <td>86.753025</td>\n",
              "      <td>86.914344</td>\n",
              "      <td>87.075664</td>\n",
              "      <td>87.236983</td>\n",
              "      <td>87.398303</td>\n",
              "      <td>87.559622</td>\n",
              "      <td>87.64823</td>\n",
              "      <td>87.736838</td>\n",
              "      <td>87.825447</td>\n",
              "      <td>87.914055</td>\n",
              "      <td>88.002663</td>\n",
              "      <td>87.896404</td>\n",
              "      <td>87.790144</td>\n",
              "      <td>87.683885</td>\n",
              "      <td>87.577625</td>\n",
              "      <td>87.471366</td>\n",
              "    </tr>\n",
              "  </tbody>\n",
              "</table>\n",
              "</div>"
            ],
            "text/plain": [
              "    Country Code  ...       2017\n",
              "654          USA  ...  87.471366\n",
              "\n",
              "[1 rows x 60 columns]"
            ]
          },
          "metadata": {
            "tags": []
          },
          "execution_count": 22
        }
      ]
    },
    {
      "cell_type": "code",
      "metadata": {
        "id": "JZQvF-0zA5Va",
        "colab_type": "code",
        "outputId": "95b2a3b0-4538-4db8-eda9-f90f1a91cf1b",
        "colab": {
          "base_uri": "https://localhost:8080/",
          "height": 80
        }
      },
      "source": [
        "usa_surv_f = usa_surv_f.T\n",
        "usa_surv_f[0:1]"
      ],
      "execution_count": 23,
      "outputs": [
        {
          "output_type": "execute_result",
          "data": {
            "text/html": [
              "<div>\n",
              "<style scoped>\n",
              "    .dataframe tbody tr th:only-of-type {\n",
              "        vertical-align: middle;\n",
              "    }\n",
              "\n",
              "    .dataframe tbody tr th {\n",
              "        vertical-align: top;\n",
              "    }\n",
              "\n",
              "    .dataframe thead th {\n",
              "        text-align: right;\n",
              "    }\n",
              "</style>\n",
              "<table border=\"1\" class=\"dataframe\">\n",
              "  <thead>\n",
              "    <tr style=\"text-align: right;\">\n",
              "      <th></th>\n",
              "      <th>654</th>\n",
              "    </tr>\n",
              "  </thead>\n",
              "  <tbody>\n",
              "    <tr>\n",
              "      <th>Country Code</th>\n",
              "      <td>USA</td>\n",
              "    </tr>\n",
              "  </tbody>\n",
              "</table>\n",
              "</div>"
            ],
            "text/plain": [
              "              654\n",
              "Country Code  USA"
            ]
          },
          "metadata": {
            "tags": []
          },
          "execution_count": 23
        }
      ]
    },
    {
      "cell_type": "code",
      "metadata": {
        "id": "07BpF77ZA5TC",
        "colab_type": "code",
        "outputId": "d7b1fb43-4c6b-48eb-8d59-32e69c68c5c3",
        "colab": {
          "base_uri": "https://localhost:8080/",
          "height": 80
        }
      },
      "source": [
        "usa_surv_f.drop('Country Code', inplace=True)\n",
        "usa_surv_f[0:1]"
      ],
      "execution_count": 24,
      "outputs": [
        {
          "output_type": "execute_result",
          "data": {
            "text/html": [
              "<div>\n",
              "<style scoped>\n",
              "    .dataframe tbody tr th:only-of-type {\n",
              "        vertical-align: middle;\n",
              "    }\n",
              "\n",
              "    .dataframe tbody tr th {\n",
              "        vertical-align: top;\n",
              "    }\n",
              "\n",
              "    .dataframe thead th {\n",
              "        text-align: right;\n",
              "    }\n",
              "</style>\n",
              "<table border=\"1\" class=\"dataframe\">\n",
              "  <thead>\n",
              "    <tr style=\"text-align: right;\">\n",
              "      <th></th>\n",
              "      <th>654</th>\n",
              "    </tr>\n",
              "  </thead>\n",
              "  <tbody>\n",
              "    <tr>\n",
              "      <th>Indicator Name</th>\n",
              "      <td>Survival to age 65, female (% of cohort)</td>\n",
              "    </tr>\n",
              "  </tbody>\n",
              "</table>\n",
              "</div>"
            ],
            "text/plain": [
              "                                                     654\n",
              "Indicator Name  Survival to age 65, female (% of cohort)"
            ]
          },
          "metadata": {
            "tags": []
          },
          "execution_count": 24
        }
      ]
    },
    {
      "cell_type": "code",
      "metadata": {
        "id": "eZ8NemHLA5QU",
        "colab_type": "code",
        "outputId": "5efc604e-88ad-406f-8ab8-0b52a55df8c5",
        "colab": {
          "base_uri": "https://localhost:8080/",
          "height": 80
        }
      },
      "source": [
        "usa_surv_f.drop('Indicator Name', inplace=True)\n",
        "usa_surv_f.head(1)"
      ],
      "execution_count": 25,
      "outputs": [
        {
          "output_type": "execute_result",
          "data": {
            "text/html": [
              "<div>\n",
              "<style scoped>\n",
              "    .dataframe tbody tr th:only-of-type {\n",
              "        vertical-align: middle;\n",
              "    }\n",
              "\n",
              "    .dataframe tbody tr th {\n",
              "        vertical-align: top;\n",
              "    }\n",
              "\n",
              "    .dataframe thead th {\n",
              "        text-align: right;\n",
              "    }\n",
              "</style>\n",
              "<table border=\"1\" class=\"dataframe\">\n",
              "  <thead>\n",
              "    <tr style=\"text-align: right;\">\n",
              "      <th></th>\n",
              "      <th>654</th>\n",
              "    </tr>\n",
              "  </thead>\n",
              "  <tbody>\n",
              "    <tr>\n",
              "      <th>1960</th>\n",
              "      <td>78.3116</td>\n",
              "    </tr>\n",
              "  </tbody>\n",
              "</table>\n",
              "</div>"
            ],
            "text/plain": [
              "          654\n",
              "1960  78.3116"
            ]
          },
          "metadata": {
            "tags": []
          },
          "execution_count": 25
        }
      ]
    },
    {
      "cell_type": "code",
      "metadata": {
        "id": "qoZyJk0rA5NQ",
        "colab_type": "code",
        "outputId": "5c7d4170-eca7-43d8-eb32-a9f2ed00fda1",
        "colab": {
          "base_uri": "https://localhost:8080/",
          "height": 204
        }
      },
      "source": [
        "usa_surv_f = usa_surv_f.rename(columns={654: 'Surv% 65'})\n",
        "usa_surv_f.head()"
      ],
      "execution_count": 26,
      "outputs": [
        {
          "output_type": "execute_result",
          "data": {
            "text/html": [
              "<div>\n",
              "<style scoped>\n",
              "    .dataframe tbody tr th:only-of-type {\n",
              "        vertical-align: middle;\n",
              "    }\n",
              "\n",
              "    .dataframe tbody tr th {\n",
              "        vertical-align: top;\n",
              "    }\n",
              "\n",
              "    .dataframe thead th {\n",
              "        text-align: right;\n",
              "    }\n",
              "</style>\n",
              "<table border=\"1\" class=\"dataframe\">\n",
              "  <thead>\n",
              "    <tr style=\"text-align: right;\">\n",
              "      <th></th>\n",
              "      <th>Surv% 65</th>\n",
              "    </tr>\n",
              "  </thead>\n",
              "  <tbody>\n",
              "    <tr>\n",
              "      <th>1960</th>\n",
              "      <td>78.3116</td>\n",
              "    </tr>\n",
              "    <tr>\n",
              "      <th>1961</th>\n",
              "      <td>78.4662</td>\n",
              "    </tr>\n",
              "    <tr>\n",
              "      <th>1962</th>\n",
              "      <td>78.6208</td>\n",
              "    </tr>\n",
              "    <tr>\n",
              "      <th>1963</th>\n",
              "      <td>78.7496</td>\n",
              "    </tr>\n",
              "    <tr>\n",
              "      <th>1964</th>\n",
              "      <td>78.8784</td>\n",
              "    </tr>\n",
              "  </tbody>\n",
              "</table>\n",
              "</div>"
            ],
            "text/plain": [
              "     Surv% 65\n",
              "1960  78.3116\n",
              "1961  78.4662\n",
              "1962  78.6208\n",
              "1963  78.7496\n",
              "1964  78.8784"
            ]
          },
          "metadata": {
            "tags": []
          },
          "execution_count": 26
        }
      ]
    },
    {
      "cell_type": "code",
      "metadata": {
        "id": "4evBs4YwA5Ks",
        "colab_type": "code",
        "outputId": "69291b46-7a57-49fa-aea1-3f6a0ae45d2b",
        "colab": {
          "base_uri": "https://localhost:8080/",
          "height": 204
        }
      },
      "source": [
        "# create a column called years and fill with 1960 - 2017\n",
        "usa_surv_f['Years'] = (sixty_to_seventeen)\n",
        "# create a column called SGP \n",
        "usa_surv_f['USA or SGP'] = usa_surv_f.apply(lambda _: 'USA', axis=1)\n",
        "# create a column called Male or Female \n",
        "usa_surv_f['Male or Female'] = usa_surv_f.apply(lambda _: 'Female', axis=1)\n",
        "usa_surv_f = usa_surv_f.reset_index(drop=True)\n",
        "usa_surv_f.head()\n"
      ],
      "execution_count": 27,
      "outputs": [
        {
          "output_type": "execute_result",
          "data": {
            "text/html": [
              "<div>\n",
              "<style scoped>\n",
              "    .dataframe tbody tr th:only-of-type {\n",
              "        vertical-align: middle;\n",
              "    }\n",
              "\n",
              "    .dataframe tbody tr th {\n",
              "        vertical-align: top;\n",
              "    }\n",
              "\n",
              "    .dataframe thead th {\n",
              "        text-align: right;\n",
              "    }\n",
              "</style>\n",
              "<table border=\"1\" class=\"dataframe\">\n",
              "  <thead>\n",
              "    <tr style=\"text-align: right;\">\n",
              "      <th></th>\n",
              "      <th>Surv% 65</th>\n",
              "      <th>Years</th>\n",
              "      <th>USA or SGP</th>\n",
              "      <th>Male or Female</th>\n",
              "    </tr>\n",
              "  </thead>\n",
              "  <tbody>\n",
              "    <tr>\n",
              "      <th>0</th>\n",
              "      <td>78.3116</td>\n",
              "      <td>1960</td>\n",
              "      <td>USA</td>\n",
              "      <td>Female</td>\n",
              "    </tr>\n",
              "    <tr>\n",
              "      <th>1</th>\n",
              "      <td>78.4662</td>\n",
              "      <td>1961</td>\n",
              "      <td>USA</td>\n",
              "      <td>Female</td>\n",
              "    </tr>\n",
              "    <tr>\n",
              "      <th>2</th>\n",
              "      <td>78.6208</td>\n",
              "      <td>1962</td>\n",
              "      <td>USA</td>\n",
              "      <td>Female</td>\n",
              "    </tr>\n",
              "    <tr>\n",
              "      <th>3</th>\n",
              "      <td>78.7496</td>\n",
              "      <td>1963</td>\n",
              "      <td>USA</td>\n",
              "      <td>Female</td>\n",
              "    </tr>\n",
              "    <tr>\n",
              "      <th>4</th>\n",
              "      <td>78.8784</td>\n",
              "      <td>1964</td>\n",
              "      <td>USA</td>\n",
              "      <td>Female</td>\n",
              "    </tr>\n",
              "  </tbody>\n",
              "</table>\n",
              "</div>"
            ],
            "text/plain": [
              "  Surv% 65 Years USA or SGP Male or Female\n",
              "0  78.3116  1960        USA         Female\n",
              "1  78.4662  1961        USA         Female\n",
              "2  78.6208  1962        USA         Female\n",
              "3  78.7496  1963        USA         Female\n",
              "4  78.8784  1964        USA         Female"
            ]
          },
          "metadata": {
            "tags": []
          },
          "execution_count": 27
        }
      ]
    },
    {
      "cell_type": "markdown",
      "metadata": {
        "id": "4M8V6NbNiXFz",
        "colab_type": "text"
      },
      "source": [
        "# Merge SGP M/F USA M/F % Survival to 65 Years"
      ]
    },
    {
      "cell_type": "code",
      "metadata": {
        "id": "E6FpF-xxiQI9",
        "colab_type": "code",
        "outputId": "48845939-2716-4b86-d461-15183cb64747",
        "colab": {
          "base_uri": "https://localhost:8080/",
          "height": 419
        }
      },
      "source": [
        "#frames to merge then join the dataframes, just stack one on top of another\n",
        "frames_to_merge = [sgp_surv_m, sgp_surv_f, usa_surv_m, usa_surv_f]\n",
        "sgp_usa_m_f_surv = pd.concat(frames_to_merge)\n",
        "sgp_usa_m_f_surv"
      ],
      "execution_count": 28,
      "outputs": [
        {
          "output_type": "execute_result",
          "data": {
            "text/html": [
              "<div>\n",
              "<style scoped>\n",
              "    .dataframe tbody tr th:only-of-type {\n",
              "        vertical-align: middle;\n",
              "    }\n",
              "\n",
              "    .dataframe tbody tr th {\n",
              "        vertical-align: top;\n",
              "    }\n",
              "\n",
              "    .dataframe thead th {\n",
              "        text-align: right;\n",
              "    }\n",
              "</style>\n",
              "<table border=\"1\" class=\"dataframe\">\n",
              "  <thead>\n",
              "    <tr style=\"text-align: right;\">\n",
              "      <th></th>\n",
              "      <th>Surv% 65</th>\n",
              "      <th>Years</th>\n",
              "      <th>USA or SGP</th>\n",
              "      <th>Male or Female</th>\n",
              "    </tr>\n",
              "  </thead>\n",
              "  <tbody>\n",
              "    <tr>\n",
              "      <th>0</th>\n",
              "      <td>55.7388</td>\n",
              "      <td>1960</td>\n",
              "      <td>SPG</td>\n",
              "      <td>Male</td>\n",
              "    </tr>\n",
              "    <tr>\n",
              "      <th>1</th>\n",
              "      <td>56.4084</td>\n",
              "      <td>1961</td>\n",
              "      <td>SPG</td>\n",
              "      <td>Male</td>\n",
              "    </tr>\n",
              "    <tr>\n",
              "      <th>2</th>\n",
              "      <td>57.078</td>\n",
              "      <td>1962</td>\n",
              "      <td>SPG</td>\n",
              "      <td>Male</td>\n",
              "    </tr>\n",
              "    <tr>\n",
              "      <th>3</th>\n",
              "      <td>57.657</td>\n",
              "      <td>1963</td>\n",
              "      <td>SPG</td>\n",
              "      <td>Male</td>\n",
              "    </tr>\n",
              "    <tr>\n",
              "      <th>4</th>\n",
              "      <td>58.236</td>\n",
              "      <td>1964</td>\n",
              "      <td>SPG</td>\n",
              "      <td>Male</td>\n",
              "    </tr>\n",
              "    <tr>\n",
              "      <th>...</th>\n",
              "      <td>...</td>\n",
              "      <td>...</td>\n",
              "      <td>...</td>\n",
              "      <td>...</td>\n",
              "    </tr>\n",
              "    <tr>\n",
              "      <th>53</th>\n",
              "      <td>87.8964</td>\n",
              "      <td>2013</td>\n",
              "      <td>USA</td>\n",
              "      <td>Female</td>\n",
              "    </tr>\n",
              "    <tr>\n",
              "      <th>54</th>\n",
              "      <td>87.7901</td>\n",
              "      <td>2014</td>\n",
              "      <td>USA</td>\n",
              "      <td>Female</td>\n",
              "    </tr>\n",
              "    <tr>\n",
              "      <th>55</th>\n",
              "      <td>87.6839</td>\n",
              "      <td>2015</td>\n",
              "      <td>USA</td>\n",
              "      <td>Female</td>\n",
              "    </tr>\n",
              "    <tr>\n",
              "      <th>56</th>\n",
              "      <td>87.5776</td>\n",
              "      <td>2016</td>\n",
              "      <td>USA</td>\n",
              "      <td>Female</td>\n",
              "    </tr>\n",
              "    <tr>\n",
              "      <th>57</th>\n",
              "      <td>87.4714</td>\n",
              "      <td>2017</td>\n",
              "      <td>USA</td>\n",
              "      <td>Female</td>\n",
              "    </tr>\n",
              "  </tbody>\n",
              "</table>\n",
              "<p>232 rows × 4 columns</p>\n",
              "</div>"
            ],
            "text/plain": [
              "   Surv% 65 Years USA or SGP Male or Female\n",
              "0   55.7388  1960        SPG           Male\n",
              "1   56.4084  1961        SPG           Male\n",
              "2    57.078  1962        SPG           Male\n",
              "3    57.657  1963        SPG           Male\n",
              "4    58.236  1964        SPG           Male\n",
              "..      ...   ...        ...            ...\n",
              "53  87.8964  2013        USA         Female\n",
              "54  87.7901  2014        USA         Female\n",
              "55  87.6839  2015        USA         Female\n",
              "56  87.5776  2016        USA         Female\n",
              "57  87.4714  2017        USA         Female\n",
              "\n",
              "[232 rows x 4 columns]"
            ]
          },
          "metadata": {
            "tags": []
          },
          "execution_count": 28
        }
      ]
    },
    {
      "cell_type": "markdown",
      "metadata": {
        "id": "CU3CytlzjYL3",
        "colab_type": "text"
      },
      "source": [
        "# Graph for Singapore M/F USA M/F % Survival to 65 Years Old"
      ]
    },
    {
      "cell_type": "code",
      "metadata": {
        "id": "6RKg0W8-n1Dr",
        "colab_type": "code",
        "colab": {}
      },
      "source": [
        "sixty_to_seventeen_evens = (['1960', '1962', '1964', '1966', '1968',\n",
        "        '1970',  '1972',  '1974',  '1976', \n",
        "       '1978',  '1980',  '1982',  '1984', '1986',\n",
        "        '1988',  '1990',  '1992',  '1994', \n",
        "       '1996',  '1998',  '2000',  '2002',  '2004',\n",
        "        '2006',  '2008',  '2010',  '2012', \n",
        "       '2014',  '2016'])"
      ],
      "execution_count": 0,
      "outputs": []
    },
    {
      "cell_type": "code",
      "metadata": {
        "id": "4fAq0a5tn803",
        "colab_type": "code",
        "colab": {
          "base_uri": "https://localhost:8080/",
          "height": 419
        },
        "outputId": "ed83af70-cad6-45b8-93ce-4dd9b93862be"
      },
      "source": [
        "# df[~df['name'].isin(names)]\n",
        "sgp_usa_m_f_surv_odds = sgp_usa_m_f_surv[~sgp_usa_m_f_surv['Years'].isin(sixty_to_seventeen_evens)]\n",
        "sgp_usa_m_f_surv_odds"
      ],
      "execution_count": 30,
      "outputs": [
        {
          "output_type": "execute_result",
          "data": {
            "text/html": [
              "<div>\n",
              "<style scoped>\n",
              "    .dataframe tbody tr th:only-of-type {\n",
              "        vertical-align: middle;\n",
              "    }\n",
              "\n",
              "    .dataframe tbody tr th {\n",
              "        vertical-align: top;\n",
              "    }\n",
              "\n",
              "    .dataframe thead th {\n",
              "        text-align: right;\n",
              "    }\n",
              "</style>\n",
              "<table border=\"1\" class=\"dataframe\">\n",
              "  <thead>\n",
              "    <tr style=\"text-align: right;\">\n",
              "      <th></th>\n",
              "      <th>Surv% 65</th>\n",
              "      <th>Years</th>\n",
              "      <th>USA or SGP</th>\n",
              "      <th>Male or Female</th>\n",
              "    </tr>\n",
              "  </thead>\n",
              "  <tbody>\n",
              "    <tr>\n",
              "      <th>1</th>\n",
              "      <td>56.4084</td>\n",
              "      <td>1961</td>\n",
              "      <td>SPG</td>\n",
              "      <td>Male</td>\n",
              "    </tr>\n",
              "    <tr>\n",
              "      <th>3</th>\n",
              "      <td>57.657</td>\n",
              "      <td>1963</td>\n",
              "      <td>SPG</td>\n",
              "      <td>Male</td>\n",
              "    </tr>\n",
              "    <tr>\n",
              "      <th>5</th>\n",
              "      <td>58.815</td>\n",
              "      <td>1965</td>\n",
              "      <td>SPG</td>\n",
              "      <td>Male</td>\n",
              "    </tr>\n",
              "    <tr>\n",
              "      <th>7</th>\n",
              "      <td>59.973</td>\n",
              "      <td>1967</td>\n",
              "      <td>SPG</td>\n",
              "      <td>Male</td>\n",
              "    </tr>\n",
              "    <tr>\n",
              "      <th>9</th>\n",
              "      <td>61.5718</td>\n",
              "      <td>1969</td>\n",
              "      <td>SPG</td>\n",
              "      <td>Male</td>\n",
              "    </tr>\n",
              "    <tr>\n",
              "      <th>...</th>\n",
              "      <td>...</td>\n",
              "      <td>...</td>\n",
              "      <td>...</td>\n",
              "      <td>...</td>\n",
              "    </tr>\n",
              "    <tr>\n",
              "      <th>49</th>\n",
              "      <td>87.7368</td>\n",
              "      <td>2009</td>\n",
              "      <td>USA</td>\n",
              "      <td>Female</td>\n",
              "    </tr>\n",
              "    <tr>\n",
              "      <th>51</th>\n",
              "      <td>87.9141</td>\n",
              "      <td>2011</td>\n",
              "      <td>USA</td>\n",
              "      <td>Female</td>\n",
              "    </tr>\n",
              "    <tr>\n",
              "      <th>53</th>\n",
              "      <td>87.8964</td>\n",
              "      <td>2013</td>\n",
              "      <td>USA</td>\n",
              "      <td>Female</td>\n",
              "    </tr>\n",
              "    <tr>\n",
              "      <th>55</th>\n",
              "      <td>87.6839</td>\n",
              "      <td>2015</td>\n",
              "      <td>USA</td>\n",
              "      <td>Female</td>\n",
              "    </tr>\n",
              "    <tr>\n",
              "      <th>57</th>\n",
              "      <td>87.4714</td>\n",
              "      <td>2017</td>\n",
              "      <td>USA</td>\n",
              "      <td>Female</td>\n",
              "    </tr>\n",
              "  </tbody>\n",
              "</table>\n",
              "<p>116 rows × 4 columns</p>\n",
              "</div>"
            ],
            "text/plain": [
              "   Surv% 65 Years USA or SGP Male or Female\n",
              "1   56.4084  1961        SPG           Male\n",
              "3    57.657  1963        SPG           Male\n",
              "5    58.815  1965        SPG           Male\n",
              "7    59.973  1967        SPG           Male\n",
              "9   61.5718  1969        SPG           Male\n",
              "..      ...   ...        ...            ...\n",
              "49  87.7368  2009        USA         Female\n",
              "51  87.9141  2011        USA         Female\n",
              "53  87.8964  2013        USA         Female\n",
              "55  87.6839  2015        USA         Female\n",
              "57  87.4714  2017        USA         Female\n",
              "\n",
              "[116 rows x 4 columns]"
            ]
          },
          "metadata": {
            "tags": []
          },
          "execution_count": 30
        }
      ]
    },
    {
      "cell_type": "code",
      "metadata": {
        "id": "wmN5EwzejHeD",
        "colab_type": "code",
        "outputId": "67859ad8-2935-4fd1-8ce1-27ae3b8cd08d",
        "colab": {
          "base_uri": "https://localhost:8080/",
          "height": 241
        }
      },
      "source": [
        "sns.set(style=\"ticks\")\n",
        "\n",
        "g = sns.FacetGrid(sgp_usa_m_f_surv_odds, col=\"Male or Female\", hue=\"USA or SGP\", height=3, aspect=2)\n",
        "g.map(plt.scatter, \"Years\", \"Surv% 65\", alpha=.5,)\n",
        "\n",
        "g.add_legend();\n",
        "for axes in g.axes.flat:\n",
        "    axes.set_xticklabels(axes.get_xticklabels(), rotation=65, horizontalalignment='right')"
      ],
      "execution_count": 33,
      "outputs": [
        {
          "output_type": "display_data",
          "data": {
            "image/png": "[encoded data removed]",
            "text/plain": [
              "<Figure size 931.55x216 with 2 Axes>"
            ]
          },
          "metadata": {
            "tags": []
          }
        }
      ]
    },
    {
      "cell_type": "code",
      "metadata": {
        "id": "tZBgKhR5juoV",
        "colab_type": "code",
        "colab": {}
      },
      "source": [
        ""
      ],
      "execution_count": 0,
      "outputs": []
    }
  ]
}